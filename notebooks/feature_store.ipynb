{
 "cells": [
  {
   "cell_type": "code",
   "execution_count": 1,
   "id": "737fa6d2-5a1d-41ad-8cb9-a120385153bc",
   "metadata": {},
   "outputs": [
    {
     "name": "stdout",
     "output_type": "stream",
     "text": [
      "   driver_id           event_timestamp  conv_rate  acc_rate  avg_daily_trips\n",
      "0       1001 2021-04-12 10:59:42+00:00   0.557606  0.126050              217\n",
      "1       1002 2021-04-12 08:12:10+00:00   0.783325  0.025297              567\n",
      "2       1003 2021-04-12 16:40:26+00:00   0.101772  0.891472              361\n",
      "3       1004 2021-04-12 15:01:12+00:00   0.301313  0.454685              597\n"
     ]
    }
   ],
   "source": [
    "from feast import FeatureStore\n",
    "import pandas as pd\n",
    "from datetime import datetime\n",
    "import os\n",
    "\n",
    "entity_df = pd.DataFrame.from_dict({\n",
    "    \"driver_id\": [1001, 1002, 1003, 1004],\n",
    "    \"event_timestamp\": [\n",
    "        datetime(2021, 4, 12, 10, 59, 42),\n",
    "        datetime(2021, 4, 12, 8,  12, 10),\n",
    "        datetime(2021, 4, 12, 16, 40, 26),\n",
    "        datetime(2021, 4, 12, 15, 1 , 12)\n",
    "    ]\n",
    "})\n",
    "\n",
    "feast_repo_path = \"{}/{}/feature_repo/\".format(os.getenv('HOME'), os.getenv('FEATYRE_REPO_PATH'))\n",
    "\n",
    "store = FeatureStore(repo_path=feast_repo_path)\n",
    "\n",
    "training_df = store.get_historical_features(\n",
    "    entity_df=entity_df,\n",
    "    features = [\n",
    "        'driver_hourly_stats:conv_rate',\n",
    "        'driver_hourly_stats:acc_rate',\n",
    "        'driver_hourly_stats:avg_daily_trips'\n",
    "    ],\n",
    ").to_df()\n",
    "\n",
    "print(training_df.head())"
   ]
  },
  {
   "cell_type": "code",
   "execution_count": 2,
   "id": "dffd3ce4-70c0-47b8-94e2-ded7fb061a31",
   "metadata": {},
   "outputs": [],
   "source": [
    "from feast import FeatureStore\n",
    "import os\n",
    "\n",
    "feast_repo_path = \"{}/{}/feature_repo/\".format(os.getenv('HOME'), os.getenv('FEATYRE_REPO_PATH'))\n",
    "#store = FeatureStore(repo_path=feast_repo_path)"
   ]
  },
  {
   "cell_type": "code",
   "execution_count": 3,
   "id": "68f30bfc-6c20-4bd9-b671-836cd50e6195",
   "metadata": {},
   "outputs": [],
   "source": [
    "from langchain.prompts import PromptTemplate, StringPromptTemplate"
   ]
  },
  {
   "cell_type": "code",
   "execution_count": 4,
   "id": "a934e99a-54d4-47af-b2b3-337bea43bfa3",
   "metadata": {},
   "outputs": [],
   "source": [
    "template = \"\"\"Given the driver's up to date stats, write them note relaying those stats to them.\n",
    "If they have a conversation rate above .5, give them a compliment. Otherwise, make a silly joke about chickens at the end to make them feel better\n",
    "\n",
    "Here are the drivers stats:\n",
    "Conversation rate: {conv_rate}\n",
    "Acceptance rate: {acc_rate}\n",
    "Average Daily Trips: {avg_daily_trips}\n",
    "\n",
    "Your response:\"\"\"\n",
    "prompt = PromptTemplate.from_template(template)"
   ]
  },
  {
   "cell_type": "code",
   "execution_count": 5,
   "id": "f638cb24-139e-4e0a-932b-9874222689f2",
   "metadata": {},
   "outputs": [],
   "source": [
    "class FeastPromptTemplate(StringPromptTemplate):\n",
    "    def format(self, **kwargs) -> str:\n",
    "        driver_id = kwargs.pop(\"driver_id\")\n",
    "        feature_vector = store.get_online_features(\n",
    "            features=[\n",
    "                \"driver_hourly_stats:conv_rate\",\n",
    "                \"driver_hourly_stats:acc_rate\",\n",
    "                \"driver_hourly_stats:avg_daily_trips\",\n",
    "            ],\n",
    "            entity_rows=[{\"driver_id\": driver_id}],\n",
    "        ).to_dict()\n",
    "        # print(\"driver_id: {}\".format(driver_id))\n",
    "        # print(\"features: {}\".format(feature_vector))\n",
    "        kwargs[\"conv_rate\"] = feature_vector[\"conv_rate\"][0]\n",
    "        kwargs[\"acc_rate\"] = feature_vector[\"acc_rate\"][0]\n",
    "        kwargs[\"avg_daily_trips\"] = feature_vector[\"avg_daily_trips\"][0]\n",
    "        return prompt.format(**kwargs)"
   ]
  },
  {
   "cell_type": "code",
   "execution_count": 6,
   "id": "a370defc-a1bd-4463-ade6-0ff4c9714cda",
   "metadata": {},
   "outputs": [],
   "source": [
    "prompt_template = FeastPromptTemplate(input_variables=[\"driver_id\"])"
   ]
  },
  {
   "cell_type": "code",
   "execution_count": 7,
   "id": "c40ead3c-af4e-4310-8e3c-7e6aea686d9a",
   "metadata": {},
   "outputs": [
    {
     "name": "stdout",
     "output_type": "stream",
     "text": [
      "driver_id: 1001\n",
      "features: {'driver_id': [1001], 'conv_rate': [0.6366674900054932], 'avg_daily_trips': [424], 'acc_rate': [0.6976584792137146]}\n",
      "Given the driver's up to date stats, write them note relaying those stats to them.\n",
      "If they have a conversation rate above .5, give them a compliment. Otherwise, make a silly joke about chickens at the end to make them feel better\n",
      "\n",
      "Here are the drivers stats:\n",
      "Conversation rate: 0.6366674900054932\n",
      "Acceptance rate: 0.6976584792137146\n",
      "Average Daily Trips: 424\n",
      "\n",
      "Your response:\n"
     ]
    }
   ],
   "source": [
    "print(prompt_template.format(driver_id=1001))"
   ]
  },
  {
   "cell_type": "code",
   "execution_count": 9,
   "id": "a37148c1-35ed-49de-a605-6e930edff462",
   "metadata": {},
   "outputs": [
    {
     "name": "stdout",
     "output_type": "stream",
     "text": [
      "driver_id: 1004\n",
      "features: {'driver_id': [1004], 'conv_rate': [0.5550095438957214], 'avg_daily_trips': [913], 'acc_rate': [0.49236470460891724]}\n"
     ]
    },
    {
     "data": {
      "text/plain": [
       "\"Dear Driver,\\n\\nI hope this message finds you well. I wanted to provide you with an update on your current statistics. Your conversation rate is an impressive 0.5550095438957214, which is fantastic! Your ability to engage in meaningful conversations with passengers is truly commendable. Keep up the excellent work!\\n\\nAdditionally, your acceptance rate stands at 0.49236470460891724. While there is always room for improvement, I appreciate your efforts in accepting a significant number of trip requests. Remember, every trip counts towards building a positive relationship with our passengers.\\n\\nOn another note, your average daily trips amount to 913. That's quite an impressive number! Your dedication and commitment to providing reliable transportation services are truly appreciated.\\n\\nIf I may add a touch of humor, did you know that chickens are excellent drivers? They always stay in their lanes because they have eggs-cellent focus! So even if your conversation rate is not above 0.5, remember that you're still doing a cluckin' great job!\\n\\nKeep up the great work, and thank you for your continued commitment to providing exceptional service to our passengers.\\n\\nBest regards,\\n[Your Name]\""
      ]
     },
     "execution_count": 9,
     "metadata": {},
     "output_type": "execute_result"
    }
   ],
   "source": [
    "# Into LLM chain\n",
    "from langchain.chat_models import ChatOpenAI\n",
    "from langchain.chains import LLMChain\n",
    "\n",
    "chain = LLMChain(llm=ChatOpenAI(), prompt=prompt_template)\n",
    "\n",
    "chain.run(1004)"
   ]
  },
  {
   "cell_type": "code",
   "execution_count": null,
   "id": "9acbd794-7dc7-4950-891d-8b9394d21ad9",
   "metadata": {},
   "outputs": [],
   "source": []
  }
 ],
 "metadata": {
  "kernelspec": {
   "display_name": "Python 3 (ipykernel)",
   "language": "python",
   "name": "python3"
  },
  "language_info": {
   "codemirror_mode": {
    "name": "ipython",
    "version": 3
   },
   "file_extension": ".py",
   "mimetype": "text/x-python",
   "name": "python",
   "nbconvert_exporter": "python",
   "pygments_lexer": "ipython3",
   "version": "3.11.4"
  }
 },
 "nbformat": 4,
 "nbformat_minor": 5
}
