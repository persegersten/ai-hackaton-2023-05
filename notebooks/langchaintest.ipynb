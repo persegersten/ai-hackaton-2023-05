{
 "cells": [
  {
   "cell_type": "code",
   "execution_count": 1,
   "id": "ecda7f32-f7c5-473a-89f6-1faac4967875",
   "metadata": {},
   "outputs": [
    {
     "data": {
      "text/plain": [
       "'Tell me a funny joke about chickens.'"
      ]
     },
     "execution_count": 1,
     "metadata": {},
     "output_type": "execute_result"
    }
   ],
   "source": [
    "from langchain.prompts import PromptTemplate\n",
    "\n",
    "prompt_template = PromptTemplate.from_template(\n",
    "    \"Tell me a {adjective} joke about {content}.\"\n",
    ")\n",
    "prompt_template.format(adjective=\"funny\", content=\"chickens\")"
   ]
  },
  {
   "cell_type": "code",
   "execution_count": 2,
   "id": "645ac340-3512-46a2-8a2c-a70b57615b72",
   "metadata": {},
   "outputs": [],
   "source": [
    "from langchain.chat_models import ChatOpenAI\n",
    "\n",
    "llm = ChatOpenAI()"
   ]
  },
  {
   "cell_type": "code",
   "execution_count": 3,
   "id": "73faf6f9-2d5e-4458-87de-35d18c63f325",
   "metadata": {},
   "outputs": [],
   "source": [
    "#llm(prompt_template.format(adjective=\"funny\", content=\"cows\"))"
   ]
  },
  {
   "cell_type": "code",
   "execution_count": 4,
   "id": "7faa3428-c7f2-4b0e-9640-6920134ceae2",
   "metadata": {},
   "outputs": [
    {
     "data": {
      "text/plain": [
       "AIMessage(content='I despise the joy of indulging in delicious delicacies.', additional_kwargs={}, example=False)"
      ]
     },
     "execution_count": 4,
     "metadata": {},
     "output_type": "execute_result"
    }
   ],
   "source": [
    "from langchain.prompts import ChatPromptTemplate\n",
    "from langchain.prompts.chat import SystemMessage, HumanMessagePromptTemplate\n",
    "\n",
    "template = ChatPromptTemplate.from_messages(\n",
    "    [\n",
    "        SystemMessage(\n",
    "            content=(\n",
    "                \"You are a helpful but very greedy assistant that re-writes the user's text to \"\n",
    "                \"sound more sad.\"\n",
    "            )\n",
    "        ),\n",
    "        HumanMessagePromptTemplate.from_template(\"{text}\"),\n",
    "    ]\n",
    ")\n",
    "\n",
    "from langchain.chat_models import ChatOpenAI\n",
    "\n",
    "llm = ChatOpenAI()\n",
    "llm(template.format_messages(text='i dont like eating tasty things.'))"
   ]
  },
  {
   "cell_type": "code",
   "execution_count": 5,
   "id": "96324f5f-bc4b-4256-a3d7-39b947b76ce2",
   "metadata": {},
   "outputs": [
    {
     "data": {
      "text/plain": [
       "AIMessage(content=\"Well, that's an interesting perspective. As an AI, I don't have personal preferences, but I understand that taste preferences can vary from person to person. Is there a particular reason why you don't enjoy eating tasty things?\", additional_kwargs={}, example=False)"
      ]
     },
     "execution_count": 5,
     "metadata": {},
     "output_type": "execute_result"
    }
   ],
   "source": [
    "from langchain.prompts import ChatPromptTemplate\n",
    "\n",
    "template = ChatPromptTemplate.from_messages([\n",
    "    (\"system\", \"You are a greedy AI bot. Your name is {name}.\"),\n",
    "    (\"human\", \"Hello, how are you doing?\"),\n",
    "    (\"ai\", \"I'm doing well, thanks!\"),\n",
    "    (\"human\", \"{user_input}\"),\n",
    "])\n",
    "\n",
    "messages = template.format_messages(\n",
    "    name=\"Bob\",\n",
    "    user_input=\"What is your name?\"\n",
    ")\n",
    "\n",
    "from langchain.chat_models import ChatOpenAI\n",
    "\n",
    "llm = ChatOpenAI()\n",
    "llm(template.format_messages(name='Apa', user_input='I dont like eating tasty things.'))"
   ]
  },
  {
   "cell_type": "code",
   "execution_count": 6,
   "id": "c0d034c8-781f-4e5e-83b5-17963b93f5c9",
   "metadata": {},
   "outputs": [
    {
     "data": {
      "text/plain": [
       "[SystemMessage(content='You are a greedy AI bot. Your name is Apa.', additional_kwargs={}),\n",
       " HumanMessage(content='Hello, how are you doing?', additional_kwargs={}, example=False),\n",
       " AIMessage(content=\"I'm doing well, thanks!\", additional_kwargs={}, example=False),\n",
       " HumanMessage(content='I dont like eating tasty things.', additional_kwargs={}, example=False)]"
      ]
     },
     "execution_count": 6,
     "metadata": {},
     "output_type": "execute_result"
    }
   ],
   "source": [
    "template.format_messages(name='Apa', user_input='I dont like eating tasty things.')"
   ]
  },
  {
   "cell_type": "code",
   "execution_count": null,
   "id": "71369bb8-0165-4123-b3f4-623e764f46e5",
   "metadata": {},
   "outputs": [],
   "source": []
  }
 ],
 "metadata": {
  "kernelspec": {
   "display_name": "Python 3 (ipykernel)",
   "language": "python",
   "name": "python3"
  },
  "language_info": {
   "codemirror_mode": {
    "name": "ipython",
    "version": 3
   },
   "file_extension": ".py",
   "mimetype": "text/x-python",
   "name": "python",
   "nbconvert_exporter": "python",
   "pygments_lexer": "ipython3",
   "version": "3.11.4"
  }
 },
 "nbformat": 4,
 "nbformat_minor": 5
}
