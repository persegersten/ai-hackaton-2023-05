{
 "cells": [
  {
   "cell_type": "code",
   "execution_count": 1,
   "id": "e8588ae6-5f6e-4101-8223-4d120e7308f1",
   "metadata": {
    "tags": []
   },
   "outputs": [],
   "source": [
    "# If you do not have above packages installed on your machine, then please go ahead and install these packages before importing.\n",
    "#\n",
    "# nltk.download('averaged_perceptron_tagger')\n",
    "# pip install langchain \n",
    "# pip install openai\n",
    "# pip install chromadb \n",
    "# pip install unstructured \n",
    "# pip install beautifulsoup4\n",
    "# pip install python-magic-bin"
   ]
  },
  {
   "cell_type": "code",
   "execution_count": 22,
   "id": "0401f3c0-cf47-4900-8bc4-20dc4676864e",
   "metadata": {
    "tags": []
   },
   "outputs": [],
   "source": [
    "from langchain.embeddings.openai import OpenAIEmbeddings\n",
    "from langchain.vectorstores import Chroma\n",
    "from langchain.text_splitter import CharacterTextSplitter\n",
    "from langchain import OpenAI\n",
    "from langchain.chains import RetrievalQA\n",
    "from langchain.document_loaders import DirectoryLoader\n",
    "#import magic\n",
    "import os\n",
    "import nltk \n",
    "import pickle"
   ]
  },
  {
   "cell_type": "code",
   "execution_count": 21,
   "id": "4b3c025c-d117-4aab-ad42-0a0d501273b3",
   "metadata": {
    "tags": []
   },
   "outputs": [],
   "source": [
    "# Ladda data som ska bädas in\n",
    "\n",
    "loader = DirectoryLoader('/home/jovyan/work/embedding', glob='**/*.txt')\n",
    "docs = loader.load()"
   ]
  },
  {
   "cell_type": "code",
   "execution_count": 4,
   "id": "a2d45790-d564-4769-91e9-f1b4215c7d2a",
   "metadata": {
    "tags": []
   },
   "outputs": [
    {
     "name": "stderr",
     "output_type": "stream",
     "text": [
      "Created a chunk of size 121, which is longer than the specified 100\n",
      "Created a chunk of size 265, which is longer than the specified 100\n",
      "Created a chunk of size 115, which is longer than the specified 100\n",
      "Created a chunk of size 234, which is longer than the specified 100\n",
      "Created a chunk of size 136, which is longer than the specified 100\n",
      "Created a chunk of size 165, which is longer than the specified 100\n",
      "Created a chunk of size 255, which is longer than the specified 100\n",
      "Created a chunk of size 193, which is longer than the specified 100\n",
      "Created a chunk of size 176, which is longer than the specified 100\n",
      "Created a chunk of size 212, which is longer than the specified 100\n"
     ]
    }
   ],
   "source": [
    "# Splitta data i mindre bitar\n",
    "\n",
    "char_text_splitter = CharacterTextSplitter(chunk_size=100, chunk_overlap=0)\n",
    "doc_texts = char_text_splitter.split_documents(docs)"
   ]
  },
  {
   "cell_type": "code",
   "execution_count": 5,
   "id": "d76d78f6-de1b-43b5-83ef-d3580bac7c3f",
   "metadata": {
    "tags": []
   },
   "outputs": [
    {
     "data": {
      "text/plain": [
       "[Document(page_content='Skip Navigation LinksKompetensutvecklings- och utbildningsbidrag \\u200b\\u200b(Tidigare namn riktlinjer för sponsring av utbildning)', metadata={'source': '/home/jovyan/work/embedding/Kompetensutvecklingsbidrag.txt'}),\n",
       " Document(page_content='Bakgrund Kompetensutveckling är en av de viktigaste grundpelarna för konsulternas (och Kvadrats) långsiktiga attraktionskraft på marknaden. För att stödja vidareutbildning för våra konsulter sponsrar Kvadrat kompetensutveckling som ligger inom våra marknadsområden.', metadata={'source': '/home/jovyan/work/embedding/Kompetensutvecklingsbidrag.txt'}),\n",
       " Document(page_content='För att uppnå en entydig struktur för sådana bidrag har vi skapat denna riktlinje.', metadata={'source': '/home/jovyan/work/embedding/Kompetensutvecklingsbidrag.txt'}),\n",
       " Document(page_content='\\u200b Riktlinjen 1.     Vi sponsrar kompetensutveckling som har bäring på vår verksamhet. VD/husvärd avgör giltigheten.', metadata={'source': '/home/jovyan/work/embedding/Kompetensutvecklingsbidrag.txt'}),\n",
       " Document(page_content='2.     Kvadrat ersätter kompetensutveckling upp till 15 000 kr per år under förutsättning att konsulten står för en lika stor andel av kostnaden. Kvadrat tar alltså halva beloppet av kompetensutvecklingskostnaden upp till 30 000 kr r.', metadata={'source': '/home/jovyan/work/embedding/Kompetensutvecklingsbidrag.txt'}),\n",
       " Document(page_content='3.     Enbart kostnader kopplade till kompetensutveckling sponsras, dvs inte kringkostnader som resor, uppehälle och förlorade intäkter.', metadata={'source': '/home/jovyan/work/embedding/Kompetensutvecklingsbidrag.txt'}),\n",
       " Document(page_content='4.     Sponsring skall avropas och godkännas av berörd VD/husvärd innan kursstart.', metadata={'source': '/home/jovyan/work/embedding/Kompetensutvecklingsbidrag.txt'}),\n",
       " Document(page_content='5.     Sponsorbelopp gäller per verksamhetsår för Kvadrat (1 maj till 30 april).', metadata={'source': '/home/jovyan/work/embedding/Kompetensutvecklingsbidrag.txt'}),\n",
       " Document(page_content='6.     Belopp som inte används under ett verksamhetsår kan inte åberopas efter bokslut.', metadata={'source': '/home/jovyan/work/embedding/Kompetensutvecklingsbidrag.txt'}),\n",
       " Document(page_content='7.     Framtida belopp kan inte intecknas och användas i förtid.', metadata={'source': '/home/jovyan/work/embedding/Kompetensutvecklingsbidrag.txt'}),\n",
       " Document(page_content='Sponsring kan även ske för medlemskap i branschorganisationer eller andra forum som bedöms nyttiga för flera konsulter och för Kvadrat. VD/husvärd avgör giltigheten.', metadata={'source': '/home/jovyan/work/embedding/Kompetensutvecklingsbidrag.txt'}),\n",
       " Document(page_content='Rapportera utbildningen på internuppdrag Konsult tar först kostnaden i sitt eget bolag för att sedan rapportera utlägget på internuppdraget. Internuppdrag finns bland de övriga uppdragen på intranätet. Maila fakturering@kvadrat.se om internuppdrag saknas.', metadata={'source': '/home/jovyan/work/embedding/Kompetensutvecklingsbidrag.txt'}),\n",
       " Document(page_content='På intranätet redovisas kostnaden under utläggsfliken, 50% av kostnaden, exklusive moms, anges och max 15\\u202f000 kr. Kompetensutvecklingsfakturan ställd till det egna bolaget bifogas som underlag.', metadata={'source': '/home/jovyan/work/embedding/Kompetensutvecklingsbidrag.txt'}),\n",
       " Document(page_content='Utläggsrapportera på intranätet\\u200b: 1) Välj internuppdrag i rullistan', metadata={'source': '/home/jovyan/work/embedding/Kompetensutvecklingsbidrag.txt'}),\n",
       " Document(page_content='2) - Välj fliken \"utlägg\" -ange år och vecka - skriv mycket kortfattat vad det är för kompetensutveckling / utbildning. - ange belopp - bifoga kvitto eller faktura i pfd-format', metadata={'source': '/home/jovyan/work/embedding/Kompetensutvecklingsbidrag.txt'}),\n",
       " Document(page_content='Utbildningsbidrag som internuppdrag.png Avlsuta med att spara. Om du är klar med hela periodens rapportering, kom ihåg att även klarmarkera i \"Krysa här när du är HELT KLAR med HELA periodens rapportering\"-rutan.', metadata={'source': '/home/jovyan/work/embedding/Kompetensutvecklingsbidrag.txt'}),\n",
       " Document(page_content='Räkna ut belopp:\\u200b Exempel: fakturans belopp är 18 000 kr, varav moms 3 600 kr. Beloppet vi räknar på är utan moms, vilket i exemplet nedan är 14 400 kr. 50 % av 14 400 kr är 7 200 kr. Om detta ryms inom de 15 000 du kan nyttja per verksamhetsår, ange 7 200 som summa i din utläggsrapport. Om du till exmpel redan har nyttjar 10 000 kr, ange då 5 000 kr.', metadata={'source': '/home/jovyan/work/embedding/Kompetensutvecklingsbidrag.txt'})]"
      ]
     },
     "execution_count": 5,
     "metadata": {},
     "output_type": "execute_result"
    }
   ],
   "source": [
    "doc_texts"
   ]
  },
  {
   "cell_type": "code",
   "execution_count": 6,
   "id": "b10e309e-7d2f-45a0-8bba-cc122f30d32e",
   "metadata": {
    "tags": []
   },
   "outputs": [],
   "source": [
    "# Create Vector Store\n",
    "# Next, we need to create embeddings of it, which means we need to turn our data into a vector space. \n",
    "\n",
    "openAI_embeddings = OpenAIEmbeddings(openai_api_key=os.environ['OPENAI_API_KEY'])\n",
    "vStore = Chroma.from_documents(doc_texts, openAI_embeddings)"
   ]
  },
  {
   "cell_type": "code",
   "execution_count": 7,
   "id": "f9aa25db-e799-4508-819e-d7626bc3dd40",
   "metadata": {
    "tags": []
   },
   "outputs": [],
   "source": [
    "# Create model\n",
    "qa = RetrievalQA.from_chain_type(llm=OpenAI(), chain_type=\"stuff\", retriever=vStore.as_retriever(), verbose=True)"
   ]
  },
  {
   "cell_type": "code",
   "execution_count": 8,
   "id": "b53fe5ed-d33c-4af3-bfd7-ef7be83c1254",
   "metadata": {
    "tags": []
   },
   "outputs": [
    {
     "name": "stdout",
     "output_type": "stream",
     "text": [
      "\n",
      "\n",
      "\u001b[1m> Entering new RetrievalQA chain...\u001b[0m\n",
      "\n",
      "\u001b[1m> Finished chain.\u001b[0m\n"
     ]
    },
    {
     "data": {
      "text/plain": [
       "' Jag vet inte.'"
      ]
     },
     "execution_count": 8,
     "metadata": {},
     "output_type": "execute_result"
    }
   ],
   "source": [
    "query = \"Hur är det med tågrtrafiken?\"\n",
    "qa.run(query)"
   ]
  },
  {
   "cell_type": "code",
   "execution_count": 9,
   "id": "ac80cb0b-5b40-4e63-80dd-5c13f290d035",
   "metadata": {
    "tags": []
   },
   "outputs": [
    {
     "name": "stdout",
     "output_type": "stream",
     "text": [
      "\n",
      "\n",
      "\u001b[1m> Entering new RetrievalQA chain...\u001b[0m\n",
      "\n",
      "\u001b[1m> Finished chain.\u001b[0m\n"
     ]
    },
    {
     "data": {
      "text/plain": [
       "' Jag vet inte.'"
      ]
     },
     "execution_count": 9,
     "metadata": {},
     "output_type": "execute_result"
    }
   ],
   "source": [
    "query = \"Vad säger Miljödepartementet? Ge mig svaret som ett fyllo\"\n",
    "qa.run(query)"
   ]
  },
  {
   "cell_type": "code",
   "execution_count": 10,
   "id": "168b459b-b764-4762-a5de-66553aad2c38",
   "metadata": {
    "tags": []
   },
   "outputs": [
    {
     "name": "stdout",
     "output_type": "stream",
     "text": [
      "\n",
      "\n",
      "\u001b[1m> Entering new RetrievalQA chain...\u001b[0m\n",
      "\n",
      "\u001b[1m> Finished chain.\u001b[0m\n"
     ]
    },
    {
     "data": {
      "text/plain": [
       "' Du kan få upp till 15 000 kr per år i kompetensbidrag.'"
      ]
     },
     "execution_count": 10,
     "metadata": {},
     "output_type": "execute_result"
    }
   ],
   "source": [
    "query = \"Hur mycket kan jag få i kompetensbidrag?\"\n",
    "qa.run(query)"
   ]
  },
  {
   "cell_type": "code",
   "execution_count": 11,
   "id": "67a04f12-94f0-4542-ae02-15642920f0a0",
   "metadata": {
    "tags": []
   },
   "outputs": [
    {
     "name": "stdout",
     "output_type": "stream",
     "text": [
      "\n",
      "\n",
      "\u001b[1m> Entering new RetrievalQA chain...\u001b[0m\n",
      "\n",
      "\u001b[1m> Finished chain.\u001b[0m\n"
     ]
    },
    {
     "data": {
      "text/plain": [
       "' Om vi antar att det är 18000 kr för kompetensutvecklingskostnaden, inklusive moms, så skulle Kvadrat stå för halva beloppet, upp till 15000 kr.'"
      ]
     },
     "execution_count": 11,
     "metadata": {},
     "output_type": "execute_result"
    }
   ],
   "source": [
    "query = \"Jag säger 18000, vad säger du då?\"\n",
    "qa.run(query)"
   ]
  },
  {
   "cell_type": "code",
   "execution_count": 26,
   "id": "b57eef26-00c3-468b-b9ec-1a1741a0d7ee",
   "metadata": {
    "tags": []
   },
   "outputs": [
    {
     "ename": "NotImplementedError",
     "evalue": "Saving not supported for this chain type.",
     "output_type": "error",
     "traceback": [
      "\u001b[0;31m---------------------------------------------------------------------------\u001b[0m",
      "\u001b[0;31mNotImplementedError\u001b[0m                       Traceback (most recent call last)",
      "Cell \u001b[0;32mIn[26], line 2\u001b[0m\n\u001b[1;32m      1\u001b[0m \u001b[38;5;66;03m# Save the model to a file\u001b[39;00m\n\u001b[0;32m----> 2\u001b[0m \u001b[43mqa\u001b[49m\u001b[38;5;241;43m.\u001b[39;49m\u001b[43msave\u001b[49m\u001b[43m(\u001b[49m\u001b[38;5;124;43m\"\u001b[39;49m\u001b[38;5;124;43mapa.json\u001b[39;49m\u001b[38;5;124;43m\"\u001b[39;49m\u001b[43m)\u001b[49m\n",
      "File \u001b[0;32m/opt/conda/lib/python3.10/site-packages/langchain/chains/base.py:302\u001b[0m, in \u001b[0;36mChain.save\u001b[0;34m(self, file_path)\u001b[0m\n\u001b[1;32m    299\u001b[0m directory_path\u001b[38;5;241m.\u001b[39mmkdir(parents\u001b[38;5;241m=\u001b[39m\u001b[38;5;28;01mTrue\u001b[39;00m, exist_ok\u001b[38;5;241m=\u001b[39m\u001b[38;5;28;01mTrue\u001b[39;00m)\n\u001b[1;32m    301\u001b[0m \u001b[38;5;66;03m# Fetch dictionary to save\u001b[39;00m\n\u001b[0;32m--> 302\u001b[0m chain_dict \u001b[38;5;241m=\u001b[39m \u001b[38;5;28;43mself\u001b[39;49m\u001b[38;5;241;43m.\u001b[39;49m\u001b[43mdict\u001b[49m\u001b[43m(\u001b[49m\u001b[43m)\u001b[49m\n\u001b[1;32m    304\u001b[0m \u001b[38;5;28;01mif\u001b[39;00m save_path\u001b[38;5;241m.\u001b[39msuffix \u001b[38;5;241m==\u001b[39m \u001b[38;5;124m\"\u001b[39m\u001b[38;5;124m.json\u001b[39m\u001b[38;5;124m\"\u001b[39m:\n\u001b[1;32m    305\u001b[0m     \u001b[38;5;28;01mwith\u001b[39;00m \u001b[38;5;28mopen\u001b[39m(file_path, \u001b[38;5;124m\"\u001b[39m\u001b[38;5;124mw\u001b[39m\u001b[38;5;124m\"\u001b[39m) \u001b[38;5;28;01mas\u001b[39;00m f:\n",
      "File \u001b[0;32m/opt/conda/lib/python3.10/site-packages/langchain/chains/base.py:278\u001b[0m, in \u001b[0;36mChain.dict\u001b[0;34m(self, **kwargs)\u001b[0m\n\u001b[1;32m    276\u001b[0m     \u001b[38;5;28;01mraise\u001b[39;00m \u001b[38;5;167;01mValueError\u001b[39;00m(\u001b[38;5;124m\"\u001b[39m\u001b[38;5;124mSaving of memory is not yet supported.\u001b[39m\u001b[38;5;124m\"\u001b[39m)\n\u001b[1;32m    277\u001b[0m _dict \u001b[38;5;241m=\u001b[39m \u001b[38;5;28msuper\u001b[39m()\u001b[38;5;241m.\u001b[39mdict()\n\u001b[0;32m--> 278\u001b[0m _dict[\u001b[38;5;124m\"\u001b[39m\u001b[38;5;124m_type\u001b[39m\u001b[38;5;124m\"\u001b[39m] \u001b[38;5;241m=\u001b[39m \u001b[38;5;28;43mself\u001b[39;49m\u001b[38;5;241;43m.\u001b[39;49m\u001b[43m_chain_type\u001b[49m\n\u001b[1;32m    279\u001b[0m \u001b[38;5;28;01mreturn\u001b[39;00m _dict\n",
      "File \u001b[0;32m/opt/conda/lib/python3.10/site-packages/langchain/chains/base.py:45\u001b[0m, in \u001b[0;36mChain._chain_type\u001b[0;34m(self)\u001b[0m\n\u001b[1;32m     43\u001b[0m \u001b[38;5;129m@property\u001b[39m\n\u001b[1;32m     44\u001b[0m \u001b[38;5;28;01mdef\u001b[39;00m \u001b[38;5;21m_chain_type\u001b[39m(\u001b[38;5;28mself\u001b[39m) \u001b[38;5;241m-\u001b[39m\u001b[38;5;241m>\u001b[39m \u001b[38;5;28mstr\u001b[39m:\n\u001b[0;32m---> 45\u001b[0m     \u001b[38;5;28;01mraise\u001b[39;00m \u001b[38;5;167;01mNotImplementedError\u001b[39;00m(\u001b[38;5;124m\"\u001b[39m\u001b[38;5;124mSaving not supported for this chain type.\u001b[39m\u001b[38;5;124m\"\u001b[39m)\n",
      "\u001b[0;31mNotImplementedError\u001b[0m: Saving not supported for this chain type."
     ]
    }
   ],
   "source": [
    "# Save the model to a file\n",
    "qa.save(\"apa.json\")"
   ]
  },
  {
   "cell_type": "code",
   "execution_count": null,
   "id": "7b492153-471c-489e-a400-ea710e99f507",
   "metadata": {},
   "outputs": [],
   "source": []
  },
  {
   "cell_type": "code",
   "execution_count": null,
   "id": "0984487f-d5b2-40dd-9621-fcffed497d50",
   "metadata": {},
   "outputs": [],
   "source": []
  }
 ],
 "metadata": {
  "kernelspec": {
   "display_name": "Python 3 (ipykernel)",
   "language": "python",
   "name": "python3"
  },
  "language_info": {
   "codemirror_mode": {
    "name": "ipython",
    "version": 3
   },
   "file_extension": ".py",
   "mimetype": "text/x-python",
   "name": "python",
   "nbconvert_exporter": "python",
   "pygments_lexer": "ipython3",
   "version": "3.10.9"
  }
 },
 "nbformat": 4,
 "nbformat_minor": 5
}
